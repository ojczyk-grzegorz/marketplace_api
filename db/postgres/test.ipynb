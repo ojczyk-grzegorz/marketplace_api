{
 "cells": [
  {
   "cell_type": "code",
   "execution_count": null,
   "id": "8487eb46",
   "metadata": {},
   "outputs": [
    {
     "ename": "UndefinedColumn",
     "evalue": "BŁĄD:  kolumna \"addresses\" relacji \"users\" nie istnieje\nLINE 2: ...ountry, city, street, street_number, postal_code, addresses,...\n                                                             ^\n",
     "output_type": "error",
     "traceback": [
      "\u001b[1;31m---------------------------------------------------------------------------\u001b[0m",
      "\u001b[1;31mUndefinedColumn\u001b[0m                           Traceback (most recent call last)",
      "Cell \u001b[1;32mIn[4], line 47\u001b[0m\n\u001b[0;32m     43\u001b[0m     database_config \u001b[38;5;241m=\u001b[39m json\u001b[38;5;241m.\u001b[39mload(file)\n\u001b[0;32m     45\u001b[0m recreate_tables(database_config, \u001b[38;5;124m\"\u001b[39m\u001b[38;5;124mCREATE_TABLES.sql\u001b[39m\u001b[38;5;124m\"\u001b[39m)\n\u001b[1;32m---> 47\u001b[0m \u001b[43minsert_table_json\u001b[49m\u001b[43m(\u001b[49m\n\u001b[0;32m     48\u001b[0m \u001b[43m    \u001b[49m\u001b[43mdatabase_config\u001b[49m\u001b[43m,\u001b[49m\u001b[43m \u001b[49m\u001b[38;5;124;43m\"\u001b[39;49m\u001b[38;5;124;43m../mock_data/users.json\u001b[39;49m\u001b[38;5;124;43m\"\u001b[39;49m\u001b[43m,\u001b[49m\u001b[43m \u001b[49m\u001b[43mremove\u001b[49m\u001b[38;5;241;43m=\u001b[39;49m\u001b[43m[\u001b[49m\u001b[38;5;124;43m\"\u001b[39;49m\u001b[38;5;124;43muid\u001b[39;49m\u001b[38;5;124;43m\"\u001b[39;49m\u001b[43m,\u001b[49m\u001b[43m \u001b[49m\u001b[38;5;124;43m\"\u001b[39;49m\u001b[38;5;124;43muid_uuid4\u001b[39;49m\u001b[38;5;124;43m\"\u001b[39;49m\u001b[43m]\u001b[49m\n\u001b[0;32m     49\u001b[0m \u001b[43m)\u001b[49m\n\u001b[0;32m     50\u001b[0m insert_table_json(database_config, \u001b[38;5;124m\"\u001b[39m\u001b[38;5;124m../mock_data/categories.json\u001b[39m\u001b[38;5;124m\"\u001b[39m, remove\u001b[38;5;241m=\u001b[39m[\u001b[38;5;124m\"\u001b[39m\u001b[38;5;124mcid\u001b[39m\u001b[38;5;124m\"\u001b[39m])\n\u001b[0;32m     51\u001b[0m insert_table_json(database_config, \u001b[38;5;124m\"\u001b[39m\u001b[38;5;124m../mock_data/status.json\u001b[39m\u001b[38;5;124m\"\u001b[39m, remove\u001b[38;5;241m=\u001b[39m[\u001b[38;5;124m\"\u001b[39m\u001b[38;5;124msid\u001b[39m\u001b[38;5;124m\"\u001b[39m])\n",
      "Cell \u001b[1;32mIn[4], line 30\u001b[0m, in \u001b[0;36minsert_table_json\u001b[1;34m(db_config, filepath, remove)\u001b[0m\n\u001b[0;32m     28\u001b[0m \u001b[38;5;28;01mwith\u001b[39;00m psycopg2\u001b[38;5;241m.\u001b[39mconnect(\u001b[38;5;241m*\u001b[39m\u001b[38;5;241m*\u001b[39mdb_config) \u001b[38;5;28;01mas\u001b[39;00m connection:\n\u001b[0;32m     29\u001b[0m     cursor \u001b[38;5;241m=\u001b[39m connection\u001b[38;5;241m.\u001b[39mcursor()\n\u001b[1;32m---> 30\u001b[0m     \u001b[43mcursor\u001b[49m\u001b[38;5;241;43m.\u001b[39;49m\u001b[43mexecute\u001b[49m\u001b[43m(\u001b[49m\u001b[38;5;124;43mf\u001b[39;49m\u001b[38;5;124;43m\"\"\"\u001b[39;49m\n\u001b[0;32m     31\u001b[0m \u001b[38;5;124;43m        INSERT INTO \u001b[39;49m\u001b[38;5;132;43;01m{\u001b[39;49;00m\u001b[43mtable_name\u001b[49m\u001b[38;5;132;43;01m}\u001b[39;49;00m\u001b[38;5;124;43m (\u001b[39;49m\u001b[38;5;132;43;01m{\u001b[39;49;00m\u001b[43mcolumns\u001b[49m\u001b[38;5;132;43;01m}\u001b[39;49;00m\u001b[38;5;124;43m)\u001b[39;49m\n\u001b[0;32m     32\u001b[0m \u001b[38;5;124;43m        SELECT \u001b[39;49m\u001b[38;5;132;43;01m{\u001b[39;49;00m\u001b[43mcolumns\u001b[49m\u001b[38;5;132;43;01m}\u001b[39;49;00m\n\u001b[0;32m     33\u001b[0m \u001b[38;5;124;43m        FROM json_populate_recordset(\u001b[39;49m\n\u001b[0;32m     34\u001b[0m \u001b[38;5;124;43m            NULL::\u001b[39;49m\u001b[38;5;132;43;01m{\u001b[39;49;00m\u001b[43mtable_name\u001b[49m\u001b[38;5;132;43;01m}\u001b[39;49;00m\u001b[38;5;124;43m,\u001b[39;49m\n\u001b[0;32m     35\u001b[0m \u001b[38;5;124;43m            \u001b[39;49m\u001b[38;5;124;43m'\u001b[39;49m\u001b[38;5;132;43;01m{\u001b[39;49;00m\u001b[43mdata_json\u001b[49m\u001b[38;5;132;43;01m}\u001b[39;49;00m\u001b[38;5;124;43m'\u001b[39;49m\n\u001b[0;32m     36\u001b[0m \u001b[38;5;124;43m        )\u001b[39;49m\n\u001b[0;32m     37\u001b[0m \u001b[38;5;124;43m        RETURNING *;\u001b[39;49m\n\u001b[0;32m     38\u001b[0m \u001b[38;5;124;43m    \u001b[39;49m\u001b[38;5;124;43m\"\"\"\u001b[39;49m\u001b[43m)\u001b[49m\n\u001b[0;32m     39\u001b[0m     connection\u001b[38;5;241m.\u001b[39mcommit()\n",
      "\u001b[1;31mUndefinedColumn\u001b[0m: BŁĄD:  kolumna \"addresses\" relacji \"users\" nie istnieje\nLINE 2: ...ountry, city, street, street_number, postal_code, addresses,...\n                                                             ^\n"
     ]
    }
   ],
   "source": [
    "import psycopg2\n",
    "import json\n",
    "\n",
    "\n",
    "def recreate_tables(db_config: dict, create_tables_sql: str = \"CREATE_TABLES.sql\"):\n",
    "    with open(create_tables_sql, \"r\") as file:\n",
    "        create_tables_query = file.read()\n",
    "\n",
    "    with psycopg2.connect(**db_config) as connection:\n",
    "        cursor = connection.cursor()\n",
    "        cursor.execute(create_tables_query)\n",
    "        connection.commit()\n",
    "\n",
    "\n",
    "def insert_table_json(db_config: dict, filepath: str, remove: list[str] = []):\n",
    "    with open(filepath, \"r\") as file:\n",
    "        data: list[dict] = json.load(file)\n",
    "    for key in remove:\n",
    "        for item in data:\n",
    "            if key in item:\n",
    "                del item[key]\n",
    "\n",
    "    if data:\n",
    "        columns = \", \".join(data[0].keys())\n",
    "        data_json = json.dumps(data).replace(\"'\", \"''\")\n",
    "        table_name = filepath.split(\"/\")[-1].split(\".\")[0]\n",
    "\n",
    "        with psycopg2.connect(**db_config) as connection:\n",
    "            cursor = connection.cursor()\n",
    "            cursor.execute(f\"\"\"\n",
    "                INSERT INTO {table_name} ({columns})\n",
    "                SELECT {columns}\n",
    "                FROM json_populate_recordset(\n",
    "                    NULL::{table_name},\n",
    "                    '{data_json}'\n",
    "                )\n",
    "                RETURNING *;\n",
    "            \"\"\")\n",
    "            connection.commit()\n",
    "\n",
    "\n",
    "with open(\"database.json\", \"r\") as file:\n",
    "    database_config = json.load(file)\n",
    "\n",
    "recreate_tables(database_config, \"CREATE_TABLES.sql\")\n",
    "\n",
    "# insert_table_json(\n",
    "#     database_config, \"../mock_data/users.json\", remove=[\"uid\", \"uid_uuid4\"]\n",
    "# )\n",
    "# insert_table_json(database_config, \"../mock_data/categories.json\", remove=[\"cid\"])\n",
    "# insert_table_json(database_config, \"../mock_data/status.json\", remove=[\"sid\"])\n",
    "# insert_table_json(\n",
    "#     database_config,\n",
    "#     \"../mock_data/transactions_active.json\",\n",
    "#     remove=[\"tid\", \"tid_uuid4\"],\n",
    "# )\n",
    "# insert_table_json(\n",
    "#     database_config, \"../mock_data/items.json\", remove=[\"iid\", \"iid_uuid4\"]\n",
    "# )\n",
    "# insert_table_json(\n",
    "#     database_config,\n",
    "#     \"../mock_data/transactions_archived.json\",\n",
    "#     remove=[\"tid\", \"tid_uuid4\"],\n",
    "# )"
   ]
  },
  {
   "cell_type": "code",
   "execution_count": null,
   "id": "3634a6d9",
   "metadata": {},
   "outputs": [
    {
     "data": {
      "text/plain": [
       "'\\nHere\\'s a more detailed breakdown:\\n1. Find the WSL IP Address:\\nOpen your Ubuntu WSL terminal.\\nRun the command wsl hostname -I. This will output the IP address of your WSL instance. \\n2. Configure PostgreSQL for Remote Access (if needed):\\nBy default, PostgreSQL in WSL might only allow local connections. You may need to edit postgresql.conf and pg_hba.conf to allow connections from the WSL IP. \\nOpen postgresql.conf with sudo nano /etc/postgresql/<version>/main/postgresql.conf and change listen_addresses = \\'localhost\\' to listen_addresses = \\'*\\' to allow connections from any IP. \\nOpen pg_hba.conf with sudo nano /etc/postgresql/<version>/main/pg_hba.conf and add a line like host all all <WSL_IP>/32 md5 to allow connections from your WSL IP (replace <WSL_IP> with the actual IP). \\nRestart the PostgreSQL service after making these changes. \\n3. Connect from Windows:\\nUse the WSL IP address you found earlier and the default PostgreSQL port (5432) in your connection string or configuration for your chosen PostgreSQL client tool (e.g., pgAdmin). \\nExample:\\nIf wsl hostname -I returns 172.20.37.128, and you\\'re using pgAdmin, you would: \\nOpen pgAdmin.\\nRight-click on \"Servers\" and select \"Register\" -> \"Server\".\\nName the server connection (e.g., \"WSL PostgreSQL\").\\nIn the \"Connection\" tab, enter:\\nHost name/address: 172.20.37.128\\nPort: 5432\\nUsername: The PostgreSQL username you want to use.\\nPassword: The password for that user.\\nClick \"Save\".\\n'"
      ]
     },
     "execution_count": 8,
     "metadata": {},
     "output_type": "execute_result"
    }
   ],
   "source": [
    "\"\"\"\n",
    "SELECT CURRENT_ROLE;\n",
    "SELECT * FROM pg_settings WHERE setting ILIKE '%host%';\n",
    "SELECT * FROM pg_settings WHERE name = 'port';\n",
    "\n",
    "\n",
    "sudo systemctl start postgresql\n",
    "sudo systemctl status postgresql\n",
    "sudo systemctl stop postgresql\n",
    "\n",
    "sudo -i -u postgres\n",
    "psql\n",
    "\\password postgres\n",
    "\n",
    "\n",
    "ALTER USER postgres PASSWORD 'mynewpassword'\n",
    "\n",
    "\n",
    "Here's a more detailed breakdown:\n",
    "1. Find the WSL IP Address:\n",
    "Open your Ubuntu WSL terminal.\n",
    "Run the command wsl hostname -I. This will output the IP address of your WSL instance. \n",
    "2. Configure PostgreSQL for Remote Access (if needed):\n",
    "By default, PostgreSQL in WSL might only allow local connections. You may need to edit postgresql.conf and pg_hba.conf to allow connections from the WSL IP. \n",
    "Open postgresql.conf with sudo nano /etc/postgresql/<version>/main/postgresql.conf and change listen_addresses = 'localhost' to listen_addresses = '*' to allow connections from any IP. \n",
    "Open pg_hba.conf with sudo nano /etc/postgresql/<version>/main/pg_hba.conf and add a line like host all all <WSL_IP>/32 md5 to allow connections from your WSL IP (replace <WSL_IP> with the actual IP). \n",
    "Restart the PostgreSQL service after making these changes. \n",
    "3. Connect from Windows:\n",
    "Use the WSL IP address you found earlier and the default PostgreSQL port (5432) in your connection string or configuration for your chosen PostgreSQL client tool (e.g., pgAdmin). \n",
    "Example:\n",
    "If wsl hostname -I returns 172.20.37.128, and you're using pgAdmin, you would: \n",
    "Open pgAdmin.\n",
    "Right-click on \"Servers\" and select \"Register\" -> \"Server\".\n",
    "Name the server connection (e.g., \"WSL PostgreSQL\").\n",
    "In the \"Connection\" tab, enter:\n",
    "Host name/address: 172.20.37.128\n",
    "Port: 5432\n",
    "Username: The PostgreSQL username you want to use.\n",
    "Password: The password for that user.\n",
    "Click \"Save\".\n",
    "\n",
    "\n",
    "SELECT us.email, ta.tid, it.seller_id FROM users us\n",
    "LEFT JOIN transactions_active ta ON ta.buyer_id = us.uid\n",
    "LEFT JOIN items it ON it.seller_id = us.uid\n",
    "WHERE ta.tid IS NULL AND it.seller_id IS NULL;\n",
    "\"\"\""
   ]
  },
  {
   "cell_type": "code",
   "execution_count": 1,
   "id": "f0eb1eeb",
   "metadata": {},
   "outputs": [
    {
     "data": {
      "text/plain": [
       "'2'"
      ]
     },
     "execution_count": 1,
     "metadata": {},
     "output_type": "execute_result"
    }
   ],
   "source": [
    "import json\n",
    "\n",
    "json.dumps(2)"
   ]
  },
  {
   "cell_type": "code",
   "execution_count": null,
   "id": "a1b3d188",
   "metadata": {},
   "outputs": [],
   "source": []
  }
 ],
 "metadata": {
  "kernelspec": {
   "display_name": ".venv",
   "language": "python",
   "name": "python3"
  },
  "language_info": {
   "codemirror_mode": {
    "name": "ipython",
    "version": 3
   },
   "file_extension": ".py",
   "mimetype": "text/x-python",
   "name": "python",
   "nbconvert_exporter": "python",
   "pygments_lexer": "ipython3",
   "version": "3.10.5"
  }
 },
 "nbformat": 4,
 "nbformat_minor": 5
}
