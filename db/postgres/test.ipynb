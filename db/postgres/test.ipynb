{
 "cells": [
  {
   "cell_type": "code",
   "execution_count": 9,
   "id": "8487eb46",
   "metadata": {},
   "outputs": [],
   "source": [
    "from configparser import ConfigParser\n",
    "import psycopg2\n",
    "\n",
    "\n",
    "\"\"\"\n",
    "SELECT CURRENT_ROLE;\n",
    "SELECT * FROM pg_settings WHERE setting ILIKE '%host%';\n",
    "SELECT * FROM pg_settings WHERE name = 'port';\n",
    "\"\"\"\n",
    "\n",
    "def load_config(filename='database.ini', section='postgresql'):\n",
    "    parser = ConfigParser()\n",
    "    parser.read(filename)\n",
    "\n",
    "    # get section, default to postgresql\n",
    "    config = {}\n",
    "    if parser.has_section(section):\n",
    "        params = parser.items(section)\n",
    "        for param in params:\n",
    "            config[param[0]] = param[1]\n",
    "    else:\n",
    "        raise Exception('Section {0} not found in the {1} file'.format(section, filename))\n",
    "\n",
    "    return config\n",
    "\n",
    "# https://stackoverflow.com/questions/56824788/how-to-connect-to-windows-postgres-database-from-wsl\n",
    "def connect(config):\n",
    "    \"\"\" Connect to the PostgreSQL database server \"\"\"\n",
    "    try:\n",
    "        # connecting to the PostgreSQL server\n",
    "        with psycopg2.connect(**config) as conn:\n",
    "            print('Connected to the PostgreSQL server.')\n",
    "            return conn\n",
    "    except (psycopg2.DatabaseError, Exception) as error:\n",
    "        print(error)\n"
   ]
  },
  {
   "cell_type": "code",
   "execution_count": 10,
   "id": "0562bf99",
   "metadata": {},
   "outputs": [
    {
     "ename": "OperationalError",
     "evalue": "connection to server at \"localhost\" (127.0.0.1), port 5432 failed: FATAL:  database \"mydata\" does not exist\n",
     "output_type": "error",
     "traceback": [
      "\u001b[31m---------------------------------------------------------------------------\u001b[39m",
      "\u001b[31mOperationalError\u001b[39m                          Traceback (most recent call last)",
      "\u001b[36mCell\u001b[39m\u001b[36m \u001b[39m\u001b[32mIn[10]\u001b[39m\u001b[32m, line 2\u001b[39m\n\u001b[32m      1\u001b[39m config = load_config()\n\u001b[32m----> \u001b[39m\u001b[32m2\u001b[39m connection = \u001b[43mpsycopg2\u001b[49m\u001b[43m.\u001b[49m\u001b[43mconnect\u001b[49m\u001b[43m(\u001b[49m\u001b[43m*\u001b[49m\u001b[43m*\u001b[49m\u001b[43mconfig\u001b[49m\u001b[43m)\u001b[49m\u001b[38;5;66;03m# connect(config)\u001b[39;00m\n\u001b[32m      3\u001b[39m \u001b[38;5;28mprint\u001b[39m(config)\n",
      "\u001b[36mFile \u001b[39m\u001b[32m~/repos/marketplace/.venv/lib/python3.12/site-packages/psycopg2/__init__.py:122\u001b[39m, in \u001b[36mconnect\u001b[39m\u001b[34m(dsn, connection_factory, cursor_factory, **kwargs)\u001b[39m\n\u001b[32m    119\u001b[39m     kwasync[\u001b[33m'\u001b[39m\u001b[33masync_\u001b[39m\u001b[33m'\u001b[39m] = kwargs.pop(\u001b[33m'\u001b[39m\u001b[33masync_\u001b[39m\u001b[33m'\u001b[39m)\n\u001b[32m    121\u001b[39m dsn = _ext.make_dsn(dsn, **kwargs)\n\u001b[32m--> \u001b[39m\u001b[32m122\u001b[39m conn = \u001b[43m_connect\u001b[49m\u001b[43m(\u001b[49m\u001b[43mdsn\u001b[49m\u001b[43m,\u001b[49m\u001b[43m \u001b[49m\u001b[43mconnection_factory\u001b[49m\u001b[43m=\u001b[49m\u001b[43mconnection_factory\u001b[49m\u001b[43m,\u001b[49m\u001b[43m \u001b[49m\u001b[43m*\u001b[49m\u001b[43m*\u001b[49m\u001b[43mkwasync\u001b[49m\u001b[43m)\u001b[49m\n\u001b[32m    123\u001b[39m \u001b[38;5;28;01mif\u001b[39;00m cursor_factory \u001b[38;5;129;01mis\u001b[39;00m \u001b[38;5;129;01mnot\u001b[39;00m \u001b[38;5;28;01mNone\u001b[39;00m:\n\u001b[32m    124\u001b[39m     conn.cursor_factory = cursor_factory\n",
      "\u001b[31mOperationalError\u001b[39m: connection to server at \"localhost\" (127.0.0.1), port 5432 failed: FATAL:  database \"mydata\" does not exist\n"
     ]
    }
   ],
   "source": [
    "config = load_config()\n",
    "connection = psycopg2.connect(**config)# connect(config)\n",
    "print(config)"
   ]
  },
  {
   "cell_type": "code",
   "execution_count": null,
   "id": "3634a6d9",
   "metadata": {},
   "outputs": [
    {
     "data": {
      "text/plain": [
       "'\\nHere\\'s a more detailed breakdown:\\n1. Find the WSL IP Address:\\nOpen your Ubuntu WSL terminal.\\nRun the command wsl hostname -I. This will output the IP address of your WSL instance. \\n2. Configure PostgreSQL for Remote Access (if needed):\\nBy default, PostgreSQL in WSL might only allow local connections. You may need to edit postgresql.conf and pg_hba.conf to allow connections from the WSL IP. \\nOpen postgresql.conf with sudo nano /etc/postgresql/<version>/main/postgresql.conf and change listen_addresses = \\'localhost\\' to listen_addresses = \\'*\\' to allow connections from any IP. \\nOpen pg_hba.conf with sudo nano /etc/postgresql/<version>/main/pg_hba.conf and add a line like host all all <WSL_IP>/32 md5 to allow connections from your WSL IP (replace <WSL_IP> with the actual IP). \\nRestart the PostgreSQL service after making these changes. \\n3. Connect from Windows:\\nUse the WSL IP address you found earlier and the default PostgreSQL port (5432) in your connection string or configuration for your chosen PostgreSQL client tool (e.g., pgAdmin). \\nExample:\\nIf wsl hostname -I returns 172.20.37.128, and you\\'re using pgAdmin, you would: \\nOpen pgAdmin.\\nRight-click on \"Servers\" and select \"Register\" -> \"Server\".\\nName the server connection (e.g., \"WSL PostgreSQL\").\\nIn the \"Connection\" tab, enter:\\nHost name/address: 172.20.37.128\\nPort: 5432\\nUsername: The PostgreSQL username you want to use.\\nPassword: The password for that user.\\nClick \"Save\".\\n'"
      ]
     },
     "execution_count": 8,
     "metadata": {},
     "output_type": "execute_result"
    }
   ],
   "source": [
    "\"\"\"\n",
    "sudo systemctl start postgresql\n",
    "sudo systemctl status postgresql\n",
    "sudo systemctl stop postgresql\n",
    "\n",
    "sudo -i -u postgres\n",
    "psql\n",
    "\\password postgres\n",
    "\n",
    "\n",
    "ALTER USER postgres PASSWORD 'mynewpassword'\n",
    "\n",
    "\n",
    "Here's a more detailed breakdown:\n",
    "1. Find the WSL IP Address:\n",
    "Open your Ubuntu WSL terminal.\n",
    "Run the command wsl hostname -I. This will output the IP address of your WSL instance. \n",
    "2. Configure PostgreSQL for Remote Access (if needed):\n",
    "By default, PostgreSQL in WSL might only allow local connections. You may need to edit postgresql.conf and pg_hba.conf to allow connections from the WSL IP. \n",
    "Open postgresql.conf with sudo nano /etc/postgresql/<version>/main/postgresql.conf and change listen_addresses = 'localhost' to listen_addresses = '*' to allow connections from any IP. \n",
    "Open pg_hba.conf with sudo nano /etc/postgresql/<version>/main/pg_hba.conf and add a line like host all all <WSL_IP>/32 md5 to allow connections from your WSL IP (replace <WSL_IP> with the actual IP). \n",
    "Restart the PostgreSQL service after making these changes. \n",
    "3. Connect from Windows:\n",
    "Use the WSL IP address you found earlier and the default PostgreSQL port (5432) in your connection string or configuration for your chosen PostgreSQL client tool (e.g., pgAdmin). \n",
    "Example:\n",
    "If wsl hostname -I returns 172.20.37.128, and you're using pgAdmin, you would: \n",
    "Open pgAdmin.\n",
    "Right-click on \"Servers\" and select \"Register\" -> \"Server\".\n",
    "Name the server connection (e.g., \"WSL PostgreSQL\").\n",
    "In the \"Connection\" tab, enter:\n",
    "Host name/address: 172.20.37.128\n",
    "Port: 5432\n",
    "Username: The PostgreSQL username you want to use.\n",
    "Password: The password for that user.\n",
    "Click \"Save\".\n",
    "\"\"\""
   ]
  },
  {
   "cell_type": "code",
   "execution_count": null,
   "id": "f0eb1eeb",
   "metadata": {},
   "outputs": [],
   "source": []
  }
 ],
 "metadata": {
  "kernelspec": {
   "display_name": ".venv",
   "language": "python",
   "name": "python3"
  },
  "language_info": {
   "codemirror_mode": {
    "name": "ipython",
    "version": 3
   },
   "file_extension": ".py",
   "mimetype": "text/x-python",
   "name": "python",
   "nbconvert_exporter": "python",
   "pygments_lexer": "ipython3",
   "version": "3.12.3"
  }
 },
 "nbformat": 4,
 "nbformat_minor": 5
}
